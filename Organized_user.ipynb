{
 "cells": [
  {
   "cell_type": "code",
   "execution_count": 1,
   "metadata": {},
   "outputs": [],
   "source": [
    "import pandas as pd\n",
    "import numpy as np\n",
    "import matplotlib.pyplot as plt"
   ]
  },
  {
   "cell_type": "markdown",
   "metadata": {},
   "source": [
    "# Importing latest version of our DataFrame"
   ]
  },
  {
   "cell_type": "code",
   "execution_count": 2,
   "metadata": {},
   "outputs": [],
   "source": [
    "# dti = pd.date_range(pd.Timestamp(pd.to_datetime('today').date()), periods=92*24, freq='0.5H')\n",
    "# df = pd.DataFrame(index=dti)\n",
    "# df['Date'] = df.index\n",
    "# df.to_csv('df_init' , index=False)\n",
    "# df = pd.read_csv('df_init')\n",
    "# df['Date'] = list(map(pd.Timestamp , df['Date']))\n",
    "# df.set_index('Date' , inplace=True)\n",
    "# df.columns = pd.MultiIndex.from_tuples(df.columns)\n",
    "\n",
    "df = pd.read_csv('df_commit')\n",
    "df.set_index(['Unnamed: 0','Unnamed: 1'],  inplace=True)\n",
    "df = df.T\n",
    "df.index = list(map(pd.Timestamp , df.index))"
   ]
  },
  {
   "cell_type": "markdown",
   "metadata": {},
   "source": [
    "# Creating tasks\n"
   ]
  },
  {
   "cell_type": "code",
   "execution_count": 3,
   "metadata": {},
   "outputs": [],
   "source": [
    "num_days = 6"
   ]
  },
  {
   "cell_type": "markdown",
   "metadata": {},
   "source": [
    "# Updating tasks each day for a whole week"
   ]
  },
  {
   "cell_type": "code",
   "execution_count": 4,
   "metadata": {},
   "outputs": [],
   "source": [
    "def update_todays_tasks(df ):\n",
    "    kind = input('please specify whether your task is a Habbit or Project:')\n",
    "    while kind != 'Habit' and kind != 'Project':\n",
    "        print('{} is not an option.'.format(kind))\n",
    "        kind = input('please specify whether your task is a Habbit or Project:')\n",
    "    \n",
    "    task = input('please enter Topic of your {}'.format(kind))\n",
    "    if (kind+'s' , task) not in df.columns:\n",
    "        df[(kind+'s',task)] = np.zeros(len(df))\n",
    "        df.columns = pd.MultiIndex.from_tuples(df.columns)\n",
    "    \n",
    "#     task = input('Which habbit you would like to update')\n",
    "    start_of_task = input('When did you start '+task+'? (template: 01:30)') + ':00'\n",
    "    stop_of_task = input('When did you end '+task+'? (template: 01:30)') + ':00'\n",
    "    \n",
    "    start_timestamp = pd.Timestamp(str(pd.Timestamp.today()+pd.Timedelta(str(num_days)+'D'))[:10]+' ' + start_of_task)\n",
    "    stop_timestamp  = pd.Timestamp(str(pd.Timestamp.today()+pd.Timedelta(str(num_days)+'D'))[:10]+' ' + stop_of_task)\n",
    "    \n",
    "    df[(kind+'s',task)][start_timestamp:stop_timestamp - pd.Timedelta(hours=0.5)] = 1\n",
    "    \n",
    "#     df[('G','Date')] = df.index\n",
    "#     df.to_csv('df_init' , index=False)\n",
    "#     df.drop(('G','Date'))\n",
    "    \n",
    "    return df"
   ]
  },
  {
   "cell_type": "code",
   "execution_count": 5,
   "metadata": {},
   "outputs": [
    {
     "name": "stdin",
     "output_type": "stream",
     "text": [
      "please specify whether your task is a Habbit or Project: Habit\n",
      "please enter Topic of your Habit Sleep\n",
      "When did you start Sleep? (template: 01:30) 04:00\n",
      "When did you end Sleep? (template: 01:30) 12:00\n"
     ]
    }
   ],
   "source": [
    "df = update_todays_tasks(df )"
   ]
  },
  {
   "cell_type": "code",
   "execution_count": 6,
   "metadata": {},
   "outputs": [
    {
     "name": "stdin",
     "output_type": "stream",
     "text": [
      "please specify whether your task is a Habbit or Project: Habit\n",
      "please enter Topic of your Habit Lunch\n",
      "When did you start Lunch? (template: 01:30) 13:00\n",
      "When did you end Lunch? (template: 01:30) 14:00\n"
     ]
    }
   ],
   "source": [
    "df = update_todays_tasks(df )"
   ]
  },
  {
   "cell_type": "code",
   "execution_count": 7,
   "metadata": {},
   "outputs": [
    {
     "name": "stdin",
     "output_type": "stream",
     "text": [
      "please specify whether your task is a Habbit or Project: Project\n",
      "please enter Topic of your Project Coding\n",
      "When did you start Coding? (template: 01:30) 15:00\n",
      "When did you end Coding? (template: 01:30) 16:00\n"
     ]
    }
   ],
   "source": [
    "df = update_todays_tasks(df )"
   ]
  },
  {
   "cell_type": "code",
   "execution_count": 8,
   "metadata": {},
   "outputs": [
    {
     "name": "stdin",
     "output_type": "stream",
     "text": [
      "please specify whether your task is a Habbit or Project: English\n"
     ]
    },
    {
     "name": "stdout",
     "output_type": "stream",
     "text": [
      "English is not an option.\n"
     ]
    },
    {
     "name": "stdin",
     "output_type": "stream",
     "text": [
      "please specify whether your task is a Habbit or Project: 16:30\n"
     ]
    },
    {
     "name": "stdout",
     "output_type": "stream",
     "text": [
      "16:30 is not an option.\n"
     ]
    },
    {
     "name": "stdin",
     "output_type": "stream",
     "text": [
      "please specify whether your task is a Habbit or Project: 17:00\n"
     ]
    },
    {
     "name": "stdout",
     "output_type": "stream",
     "text": [
      "17:00 is not an option.\n"
     ]
    },
    {
     "name": "stdin",
     "output_type": "stream",
     "text": [
      "please specify whether your task is a Habbit or Project: Project\n",
      "please enter Topic of your Project English\n",
      "When did you start English? (template: 01:30) 16:30\n",
      "When did you end English? (template: 01:30) 17:00\n"
     ]
    }
   ],
   "source": [
    "df = update_todays_tasks(df )"
   ]
  },
  {
   "cell_type": "code",
   "execution_count": 9,
   "metadata": {},
   "outputs": [],
   "source": [
    "df.T.to_csv('df_commit')"
   ]
  },
  {
   "cell_type": "code",
   "execution_count": 5,
   "metadata": {},
   "outputs": [],
   "source": [
    "completed_df = df.resample('24H').sum()/2\n",
    "completed_df = completed_df[(completed_df.T !=0).any()]"
   ]
  },
  {
   "cell_type": "code",
   "execution_count": 6,
   "metadata": {},
   "outputs": [
    {
     "data": {
      "text/html": [
       "<div>\n",
       "<style scoped>\n",
       "    .dataframe tbody tr th:only-of-type {\n",
       "        vertical-align: middle;\n",
       "    }\n",
       "\n",
       "    .dataframe tbody tr th {\n",
       "        vertical-align: top;\n",
       "    }\n",
       "\n",
       "    .dataframe thead tr th {\n",
       "        text-align: left;\n",
       "    }\n",
       "</style>\n",
       "<table border=\"1\" class=\"dataframe\">\n",
       "  <thead>\n",
       "    <tr>\n",
       "      <th>Unnamed: 0</th>\n",
       "      <th colspan=\"2\" halign=\"left\">Habits</th>\n",
       "      <th colspan=\"2\" halign=\"left\">Projects</th>\n",
       "    </tr>\n",
       "    <tr>\n",
       "      <th>Unnamed: 1</th>\n",
       "      <th>Sleep</th>\n",
       "      <th>Lunch</th>\n",
       "      <th>English</th>\n",
       "      <th>Coding</th>\n",
       "    </tr>\n",
       "  </thead>\n",
       "  <tbody>\n",
       "    <tr>\n",
       "      <th>2020-06-01</th>\n",
       "      <td>8.0</td>\n",
       "      <td>1.0</td>\n",
       "      <td>1.0</td>\n",
       "      <td>9.0</td>\n",
       "    </tr>\n",
       "    <tr>\n",
       "      <th>2020-06-02</th>\n",
       "      <td>9.0</td>\n",
       "      <td>2.0</td>\n",
       "      <td>3.0</td>\n",
       "      <td>3.0</td>\n",
       "    </tr>\n",
       "    <tr>\n",
       "      <th>2020-06-03</th>\n",
       "      <td>10.5</td>\n",
       "      <td>3.0</td>\n",
       "      <td>2.0</td>\n",
       "      <td>7.0</td>\n",
       "    </tr>\n",
       "    <tr>\n",
       "      <th>2020-06-04</th>\n",
       "      <td>7.5</td>\n",
       "      <td>3.0</td>\n",
       "      <td>3.0</td>\n",
       "      <td>4.0</td>\n",
       "    </tr>\n",
       "    <tr>\n",
       "      <th>2020-06-05</th>\n",
       "      <td>8.0</td>\n",
       "      <td>2.0</td>\n",
       "      <td>1.0</td>\n",
       "      <td>7.0</td>\n",
       "    </tr>\n",
       "    <tr>\n",
       "      <th>2020-06-06</th>\n",
       "      <td>5.0</td>\n",
       "      <td>2.0</td>\n",
       "      <td>1.0</td>\n",
       "      <td>2.0</td>\n",
       "    </tr>\n",
       "    <tr>\n",
       "      <th>2020-06-07</th>\n",
       "      <td>8.0</td>\n",
       "      <td>1.0</td>\n",
       "      <td>0.5</td>\n",
       "      <td>1.0</td>\n",
       "    </tr>\n",
       "  </tbody>\n",
       "</table>\n",
       "</div>"
      ],
      "text/plain": [
       "Unnamed: 0 Habits       Projects       \n",
       "Unnamed: 1  Sleep Lunch  English Coding\n",
       "2020-06-01    8.0   1.0      1.0    9.0\n",
       "2020-06-02    9.0   2.0      3.0    3.0\n",
       "2020-06-03   10.5   3.0      2.0    7.0\n",
       "2020-06-04    7.5   3.0      3.0    4.0\n",
       "2020-06-05    8.0   2.0      1.0    7.0\n",
       "2020-06-06    5.0   2.0      1.0    2.0\n",
       "2020-06-07    8.0   1.0      0.5    1.0"
      ]
     },
     "execution_count": 6,
     "metadata": {},
     "output_type": "execute_result"
    }
   ],
   "source": [
    "completed_df"
   ]
  },
  {
   "cell_type": "code",
   "execution_count": 20,
   "metadata": {},
   "outputs": [
    {
     "data": {
      "image/png": "[encoded data removed]",
      "text/plain": [
       "<Figure size 1152x648 with 1 Axes>"
      ]
     },
     "metadata": {},
     "output_type": "display_data"
    }
   ],
   "source": [
    "vals = completed_df.sum().values\n",
    "this_week = [i/sum(vals) for i in vals]\n",
    "\n",
    "# Pie chart, where the slices will be ordered and plotted counter-clockwise:\n",
    "labels = df.columns\n",
    "sizes = this_week\n",
    "explode = (0.1, 0.1, 0.1, 0.1)  # only \"explode\" the 2nd slice (i.e. 'Hogs')\n",
    "\n",
    "fig1, ax1 = plt.subplots(figsize=(16,9))\n",
    "ax1.pie(sizes, explode=explode, labels=labels ,autopct='%1.1f%%',\n",
    "        shadow=True, startangle=90)\n",
    "ax1.axis('equal')  # Equal aspect ratio ensures that pie is drawn as a circle.\n",
    "plt.title('Past Week' , fontsize=20)\n",
    "plt.show()"
   ]
  },
  {
   "cell_type": "code",
   "execution_count": 24,
   "metadata": {},
   "outputs": [
    {
     "data": {
      "image/png": "[encoded data removed]",
      "text/plain": [
       "<Figure size 864x432 with 1 Axes>"
      ]
     },
     "metadata": {
      "needs_background": "light"
     },
     "output_type": "display_data"
    }
   ],
   "source": [
    "def get_day_nameHn(inp, fre='24H'):\n",
    "    return pd.Timestamp(inp, freq=fre).day_name()\n",
    "\n",
    "from matplotlib import rc\n",
    "fig, ax = plt.subplots(figsize=(12,6))\n",
    "\n",
    "plt.rcParams['font.family'] = 'sans-serif'\n",
    "plt.rcParams['font.sans-serif'] = 'Helvetica'\n",
    "plt.rcParams['axes.edgecolor']='#333F4B'\n",
    "plt.rcParams['axes.linewidth']=0.9\n",
    "plt.rcParams['xtick.color']='#333F4B'\n",
    "plt.rcParams['ytick.color']='#333F4B'\n",
    "\n",
    "r = [0,1,2,3,4,5,6]\n",
    "df = completed_df\n",
    "barWidth = 0.65\n",
    "names = list(map(get_day_nameHn , completed_df.index))\n",
    "# Create green Bars\n",
    "plt.bar(r, df[df.columns[0]], color='#b5ffb9', edgecolor='white', width=barWidth ,  label=df.columns[0])\n",
    "plt.bar(r, df[df.columns[1]], bottom=df[df.columns[0]], color='#f9bc86', edgecolor='white', width=barWidth , label=df.columns[1])\n",
    "plt.bar(r, df[df.columns[2]], bottom=[i+j for i,j in zip(df[df.columns[0]], df[df.columns[1]])], color='#a3acff', edgecolor='white', width=barWidth, label=df.columns[2])\n",
    "plt.bar(r, df[df.columns[3]], bottom=[i+j+k for i,j,k in zip(df[df.columns[0]], df[df.columns[1]] , df[df.columns[2]])], color='#ff4d4d', edgecolor='white', width=barWidth , alpha=0.9 ,  label=df.columns[3])\n",
    "# plt.bar(r, df[df.columns[4]], bottom=[i+j+k+l for i,j,k,l in zip(df[df.columns[0]], df[df.columns[1]] , df[df.columns[2]] , df[df.columns[3]])], color='greenyellow', edgecolor='white', width=barWidth , label=df.columns[4])\n",
    "# plt.bar(r, df[df.columns[5]], bottom=[i+j+k+l+m for i,j,k,l,m in zip(df[df.columns[0]], df[df.columns[1]] , df[df.columns[2]] , df[df.columns[3]] , df[df.columns[4]])], color='lightcoral', edgecolor='white', width=barWidth ,label=df.columns[5] )   \n",
    "# plt.bar(r, df[df.columns[6]], bottom=[i+j+k+l+m+n for i,j,k,l,m,n in zip(df[df.columns[0]], df[df.columns[1]] , df[df.columns[2]] , df[df.columns[3]] , df[df.columns[4]] , df[df.columns[5]])], color='grey', edgecolor='white', width=barWidth ,label=df.columns[6])\n",
    "# plt.bar(r, df[df.columns[7]], bottom=[i+j+k+l+m+n+o for i,j,k,l,m,n,o in zip(df[df.columns[0]], df[df.columns[1]] , df[df.columns[2]] , df[df.columns[3]] , df[df.columns[4]] , df[df.columns[5]] , df[df.columns[6]])], color='blueviolet', edgecolor='white', width=barWidth ,alpha=.9 , label=df.columns[7]) \n",
    "\n",
    "# Custom x axis\n",
    "plt.xticks(r, names , fontsize=10, fontweight='black', color = '#333F4B')\n",
    "plt.legend(loc='upper left', bbox_to_anchor=(1,1), ncol=1)\n",
    "plt.setp(plt.gca().get_xticklabels(), rotation=45, horizontalalignment='right')\n",
    "plt.ylabel('Hour' , fontsize=15, fontweight='black', color = '#333F4B')\n",
    "\n",
    "ax.spines['top'].set_color('none')\n",
    "ax.spines['right'].set_color('none')\n",
    "ax.spines['left'].set_smart_bounds(True)\n",
    "ax.spines['bottom'].set_smart_bounds(True)\n",
    "\n",
    "# plt.savefig('fig2.png', dpi=300, bbox_inches='tight', transparent = True)\n",
    "plt.show()"
   ]
  },
  {
   "cell_type": "code",
   "execution_count": 43,
   "metadata": {},
   "outputs": [
    {
     "data": {
      "text/plain": [
       "<matplotlib.image.AxesImage at 0x7f6fcd74ad00>"
      ]
     },
     "execution_count": 43,
     "metadata": {},
     "output_type": "execute_result"
    },
    {
     "data": {
      "image/png": "[encoded data removed]",
      "text/plain": [
       "<Figure size 432x288 with 1 Axes>"
      ]
     },
     "metadata": {
      "needs_background": "light"
     },
     "output_type": "display_data"
    }
   ],
   "source": [
    "detailed_df = df[(df.T !=0).any()]\n",
    "plt.imshow(detailed_df.iloc[:34].T.values)"
   ]
  },
  {
   "cell_type": "code",
   "execution_count": 36,
   "metadata": {},
   "outputs": [
    {
     "data": {
      "text/html": [
       "<div>\n",
       "<style scoped>\n",
       "    .dataframe tbody tr th:only-of-type {\n",
       "        vertical-align: middle;\n",
       "    }\n",
       "\n",
       "    .dataframe tbody tr th {\n",
       "        vertical-align: top;\n",
       "    }\n",
       "\n",
       "    .dataframe thead tr th {\n",
       "        text-align: left;\n",
       "    }\n",
       "</style>\n",
       "<table border=\"1\" class=\"dataframe\">\n",
       "  <thead>\n",
       "    <tr>\n",
       "      <th>Unnamed: 0</th>\n",
       "      <th colspan=\"2\" halign=\"left\">Habits</th>\n",
       "      <th colspan=\"2\" halign=\"left\">Projects</th>\n",
       "    </tr>\n",
       "    <tr>\n",
       "      <th>Unnamed: 1</th>\n",
       "      <th>Sleep</th>\n",
       "      <th>Lunch</th>\n",
       "      <th>English</th>\n",
       "      <th>Coding</th>\n",
       "    </tr>\n",
       "  </thead>\n",
       "  <tbody>\n",
       "    <tr>\n",
       "      <th>2020-06-01 03:00:00</th>\n",
       "      <td>1.0</td>\n",
       "      <td>0.0</td>\n",
       "      <td>0.0</td>\n",
       "      <td>0.0</td>\n",
       "    </tr>\n",
       "    <tr>\n",
       "      <th>2020-06-01 03:30:00</th>\n",
       "      <td>1.0</td>\n",
       "      <td>0.0</td>\n",
       "      <td>0.0</td>\n",
       "      <td>0.0</td>\n",
       "    </tr>\n",
       "    <tr>\n",
       "      <th>2020-06-01 04:00:00</th>\n",
       "      <td>1.0</td>\n",
       "      <td>0.0</td>\n",
       "      <td>0.0</td>\n",
       "      <td>0.0</td>\n",
       "    </tr>\n",
       "    <tr>\n",
       "      <th>2020-06-01 04:30:00</th>\n",
       "      <td>1.0</td>\n",
       "      <td>0.0</td>\n",
       "      <td>0.0</td>\n",
       "      <td>0.0</td>\n",
       "    </tr>\n",
       "    <tr>\n",
       "      <th>2020-06-01 05:00:00</th>\n",
       "      <td>1.0</td>\n",
       "      <td>0.0</td>\n",
       "      <td>0.0</td>\n",
       "      <td>0.0</td>\n",
       "    </tr>\n",
       "    <tr>\n",
       "      <th>...</th>\n",
       "      <td>...</td>\n",
       "      <td>...</td>\n",
       "      <td>...</td>\n",
       "      <td>...</td>\n",
       "    </tr>\n",
       "    <tr>\n",
       "      <th>2020-06-07 13:00:00</th>\n",
       "      <td>0.0</td>\n",
       "      <td>1.0</td>\n",
       "      <td>0.0</td>\n",
       "      <td>0.0</td>\n",
       "    </tr>\n",
       "    <tr>\n",
       "      <th>2020-06-07 13:30:00</th>\n",
       "      <td>0.0</td>\n",
       "      <td>1.0</td>\n",
       "      <td>0.0</td>\n",
       "      <td>0.0</td>\n",
       "    </tr>\n",
       "    <tr>\n",
       "      <th>2020-06-07 15:00:00</th>\n",
       "      <td>0.0</td>\n",
       "      <td>0.0</td>\n",
       "      <td>0.0</td>\n",
       "      <td>1.0</td>\n",
       "    </tr>\n",
       "    <tr>\n",
       "      <th>2020-06-07 15:30:00</th>\n",
       "      <td>0.0</td>\n",
       "      <td>0.0</td>\n",
       "      <td>0.0</td>\n",
       "      <td>1.0</td>\n",
       "    </tr>\n",
       "    <tr>\n",
       "      <th>2020-06-07 16:30:00</th>\n",
       "      <td>0.0</td>\n",
       "      <td>0.0</td>\n",
       "      <td>1.0</td>\n",
       "      <td>0.0</td>\n",
       "    </tr>\n",
       "  </tbody>\n",
       "</table>\n",
       "<p>221 rows × 4 columns</p>\n",
       "</div>"
      ],
      "text/plain": [
       "Unnamed: 0          Habits       Projects       \n",
       "Unnamed: 1           Sleep Lunch  English Coding\n",
       "2020-06-01 03:00:00    1.0   0.0      0.0    0.0\n",
       "2020-06-01 03:30:00    1.0   0.0      0.0    0.0\n",
       "2020-06-01 04:00:00    1.0   0.0      0.0    0.0\n",
       "2020-06-01 04:30:00    1.0   0.0      0.0    0.0\n",
       "2020-06-01 05:00:00    1.0   0.0      0.0    0.0\n",
       "...                    ...   ...      ...    ...\n",
       "2020-06-07 13:00:00    0.0   1.0      0.0    0.0\n",
       "2020-06-07 13:30:00    0.0   1.0      0.0    0.0\n",
       "2020-06-07 15:00:00    0.0   0.0      0.0    1.0\n",
       "2020-06-07 15:30:00    0.0   0.0      0.0    1.0\n",
       "2020-06-07 16:30:00    0.0   0.0      1.0    0.0\n",
       "\n",
       "[221 rows x 4 columns]"
      ]
     },
     "execution_count": 36,
     "metadata": {},
     "output_type": "execute_result"
    },
    {
     "data": {
      "image/png": "[encoded data removed]",
      "text/plain": [
       "<Figure size 800x450 with 1 Axes>"
      ]
     },
     "metadata": {
      "needs_background": "light"
     },
     "output_type": "display_data"
    }
   ],
   "source": [
    "\n",
    "fig = plt.figure(figsize=(8,4.5), dpi=100)\n",
    "X = np.linspace(-1,1, 53*7)\n",
    "\n",
    "ax = plt.subplot(311, xlim=[0,53], ylim=[0,7], frameon=False, aspect=1)\n",
    "ax.tick_params('x', length=0, labelsize=\"medium\", which='major')\n",
    "ax.tick_params('y', length=0, labelsize=\"x-small\", which='major')\n",
    "\n",
    "# Month borders\n",
    "xticks, labels = [], []\n",
    "\n",
    "\n",
    "ax.set_xticks(xticks)\n",
    "ax.set_xticklabels(labels)\n",
    "ax.set_yticks(0.5 + np.arange(7))\n",
    "ax.set_yticklabels([\"Mon\", \"Tue\", \"Wed\", \"Thu\", \"Fri\", \"Sat\", \"Sun\"])\n",
    "ax.set_title(\"Next Week\", weight=\"semibold\")"
   ]
  },
  {
   "cell_type": "code",
   "execution_count": 29,
   "metadata": {},
   "outputs": [
    {
     "data": {
      "image/png": "[encoded data removed]",
      "text/plain": [
       "<Figure size 800x450 with 1 Axes>"
      ]
     },
     "metadata": {
      "needs_background": "light"
     },
     "output_type": "display_data"
    }
   ],
   "source": [
    "from matplotlib.patches import Polygon\n",
    "from datetime import datetime\n",
    "from dateutil.relativedelta import relativedelta \n",
    "\n",
    "def calmap(ax, year, data):\n",
    "    ax.tick_params('x', length=0, labelsize=\"medium\", which='major')\n",
    "    ax.tick_params('y', length=0, labelsize=\"x-small\", which='major')\n",
    "\n",
    "    # Month borders\n",
    "    xticks, labels = [], []\n",
    "    start = datetime(year,1,1).weekday()\n",
    "    for month in range(1,13):\n",
    "        first = datetime(year, month, 1)\n",
    "        last = first + relativedelta(months=1, days=-1)\n",
    "\n",
    "        y0 = first.weekday()\n",
    "        y1 = last.weekday()\n",
    "        x0 = (int(first.strftime(\"%j\"))+start-1)//7\n",
    "        x1 = (int(last.strftime(\"%j\"))+start-1)//7\n",
    "\n",
    "        P = [ (x0,   y0), (x0,    7),  (x1,   7),\n",
    "              (x1,   y1+1), (x1+1,  y1+1), (x1+1, 0),\n",
    "              (x0+1,  0), (x0+1,  y0) ]\n",
    "        xticks.append(x0 +(x1-x0+1)/2)\n",
    "        labels.append(first.strftime(\"%b\"))\n",
    "        poly = Polygon(P, edgecolor=\"black\", facecolor=\"None\",\n",
    "                       linewidth=1, zorder=20, clip_on=False)\n",
    "        ax.add_artist(poly)\n",
    "    \n",
    "    ax.set_xticks(xticks)\n",
    "    ax.set_xticklabels(labels)\n",
    "    ax.set_yticks(0.5 + np.arange(7))\n",
    "    ax.set_yticklabels([\"Mon\", \"Tue\", \"Wed\", \"Thu\", \"Fri\", \"Sat\", \"Sun\"])\n",
    "    ax.set_title(\"Next Week\", weight=\"semibold\")\n",
    "    \n",
    "    # Clearing first and last day from the data\n",
    "    valid = datetime(year, 1, 1).weekday()\n",
    "    data[:valid,0] = np.nan\n",
    "    valid = datetime(year, 12, 31).weekday()\n",
    "    # data[:,x1+1:] = np.nan\n",
    "    data[valid+1:,x1] = np.nan\n",
    "\n",
    "    # Showing data\n",
    "    ax.imshow(data, extent=[0,53,0,7], zorder=10, vmin=-1, vmax=1,\n",
    "              cmap=\"RdYlBu\", origin=\"lower\", alpha=.75)\n",
    "\n",
    "\n",
    "fig = plt.figure(figsize=(8,4.5), dpi=100)\n",
    "X = np.linspace(-1,1, 53*7)\n",
    "\n",
    "ax = plt.subplot(311, xlim=[0,53], ylim=[0,7], frameon=False, aspect=1)\n",
    "I = 1.2 - np.cos(X.ravel()) + np.random.normal(0,.2, X.size)\n",
    "calmap(ax, 2017, I.reshape(53,7).T)\n",
    "\n",
    "\n",
    "plt.tight_layout()\n",
    "# plt.savefig(\"calendar-heatmap.png\", dpi=300)\n",
    "# plt.savefig(\"calendar-heatmap.pdf\", dpi=600)\n",
    "plt.show()"
   ]
  },
  {
   "cell_type": "code",
   "execution_count": 28,
   "metadata": {},
   "outputs": [
    {
     "data": {
      "text/plain": [
       "2"
      ]
     },
     "execution_count": 28,
     "metadata": {},
     "output_type": "execute_result"
    }
   ],
   "source": [
    "datetime(2020,1,1).weekday()"
   ]
  },
  {
   "cell_type": "code",
   "execution_count": null,
   "metadata": {},
   "outputs": [],
   "source": []
  }
 ],
 "metadata": {
  "kernelspec": {
   "display_name": "Python 3",
   "language": "python",
   "name": "python3"
  },
  "language_info": {
   "codemirror_mode": {
    "name": "ipython",
    "version": 3
   },
   "file_extension": ".py",
   "mimetype": "text/x-python",
   "name": "python",
   "nbconvert_exporter": "python",
   "pygments_lexer": "ipython3",
   "version": "3.8.3"
  }
 },
 "nbformat": 4,
 "nbformat_minor": 4
}
